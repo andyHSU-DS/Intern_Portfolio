{
 "cells": [
  {
   "cell_type": "code",
   "execution_count": 5,
   "metadata": {},
   "outputs": [
    {
     "data": {
      "text/plain": [
       "'d:\\\\My Documents\\\\andyhs\\\\桌面\\\\Andy\\\\Fontaine_報表總整理'"
      ]
     },
     "execution_count": 5,
     "metadata": {},
     "output_type": "execute_result"
    }
   ],
   "source": [
    "os.getcwd()"
   ]
  },
  {
   "cell_type": "code",
   "execution_count": 9,
   "metadata": {},
   "outputs": [
    {
     "name": "stdout",
     "output_type": "stream",
     "text": [
      "d:\\My Documents\\andyhs\\桌面\\Andy\\Fontaine_報表總整理\\202203\\TXT_M_#15R_20220331_1.xlsx\n",
      "\n",
      "----------------------------------successfully executed----d:\\My Documents\\andyhs\\桌面\\Andy\\Fontaine_報表總整理\\202203\\TXT_M_#15R_20220331_1------------------------\n",
      "\n",
      "d:\\My Documents\\andyhs\\桌面\\Andy\\Fontaine_報表總整理\\202203\\TXT_M_#2R#16R_20220331_1.xlsx\n",
      "\n",
      "----------------------------------successfully executed----d:\\My Documents\\andyhs\\桌面\\Andy\\Fontaine_報表總整理\\202203\\TXT_M_#2R#16R_20220331_1------------------------\n",
      "\n",
      "d:\\My Documents\\andyhs\\桌面\\Andy\\Fontaine_報表總整理\\202203\\TXT_M_#6R_20220331_1.xlsx\n",
      "\n",
      "----------------------------------successfully executed----d:\\My Documents\\andyhs\\桌面\\Andy\\Fontaine_報表總整理\\202203\\TXT_M_#6R_20220331_1------------------------\n",
      "\n",
      "d:\\My Documents\\andyhs\\桌面\\Andy\\Fontaine_報表總整理\\202203\\TXT_M_#7R_20220331_1.xlsx\n",
      "\n",
      "----------------------------------successfully executed----d:\\My Documents\\andyhs\\桌面\\Andy\\Fontaine_報表總整理\\202203\\TXT_M_#7R_20220331_1------------------------\n",
      "\n"
     ]
    }
   ],
   "source": [
    "import os\n",
    "import functools\n",
    "import numpy as np \n",
    "import pandas as pd \n",
    "import warnings\n",
    "from modules import code1\n",
    "import re\n",
    "\n",
    "\n",
    "warnings.filterwarnings(\"ignore\")\n",
    "\n",
    "class ken_AML():\n",
    "    def __init__(self,file_case_path,date):\n",
    "        self.path=file_case_path\n",
    "        self.date=date\n",
    "    \n",
    "    def get_files(self):\n",
    "        if self.date != None and self.date in os.listdir(os.getcwd()):\n",
    "            file_list         = []\n",
    "            folder_list       = []\n",
    "            folder            = os.getcwd()\n",
    "            particular_folder = folder + '\\\\' + self.date\n",
    "            for file in os.listdir(particular_folder):\n",
    "                #如果TXT_M_開頭，放到file_list\n",
    "                if re.match(r'TXT_M_',file):\n",
    "                    file_list.append(particular_folder + '\\\\' + file)\n",
    "                #如果日報開頭，放到file_list\n",
    "                elif re.match(r'日報',file):\n",
    "                    folder_list.append(particular_folder + '\\\\' + file)\n",
    "\n",
    "            for second_folder in folder_list:\n",
    "                #把日報資料夾內的檔案設成second_level_file\n",
    "                second_level_files = os.listdir(second_folder)\n",
    "                for second_level_file in second_level_files:\n",
    "                    if re.match(r'TXT_D_',second_level_file):\n",
    "                        file_list.append(second_folder + '\\\\' + second_level_file)\n",
    "            #抓特定pattern的file\n",
    "            file_specific_list = [f for f in file_list if re.search(r'TXT_M_#2R#16R',f) or re.search(r'TXT_M_#6R',f) or re.search(r'TXT_M_#7R',f) or re.search(r'TXT_M_#15R',f)]\n",
    "            return file_specific_list\n",
    "\n",
    "        elif self.date not in os.listdir(os.getcwd()):\n",
    "            return '沒找到相關資料'\n",
    "\n",
    "    def classify(self,file_path):\n",
    "        data = pd.read_excel(file_path)\n",
    "        if ( (\"關聯戶報表\" in data.columns[0]) or (\"（單一報表）\" in data.columns[0]) or 'R' in file_path) :\n",
    "            df = pd.read_excel(file_path,skiprows=4)\n",
    "        else :\n",
    "            df = pd.read_excel(file_path)\n",
    "        return df \n",
    "    \n",
    "    def start_file_case_path(self, list):\n",
    "        for i in list:\n",
    "            print(i)\n",
    "            file_path= i\n",
    "        \n",
    "            data = self.classify(file_path)\n",
    "            df_final = code1.main_fnc(data)\n",
    "            if(df_final.shape[0] != 0 ):\n",
    "                try:\n",
    "                    wb =code1.write_excel(df_final)\n",
    "                    wb.save(os.getcwd() + r'\\output\\\\' + i[:-5].split('\\\\')[-1] +\"_modified_output(歸戶編號).xlsx\")\n",
    "                except:\n",
    "                    df_final.to_excel(os.getcwd() + r'\\output\\\\' + i[:-5].split('\\\\')[-1] +\"_modified_output(歸戶編號).xlsx\",index=False,header=True,encoding='utf-8-sig')\n",
    "                print(\"\\n----------------------------------successfully executed----\" + i[:-5] + \"------------------------\\n\")\n",
    "            else :\n",
    "                print(\" no data  in \" + i[:-5] )\n",
    "    \n",
    "\n",
    "if __name__ == '__main__':\n",
    "    file_case_path= os.getcwd()\n",
    "    work1=ken_AML(file_case_path,'202203')\n",
    "    #找到特定檔案\n",
    "    particular_file = work1.get_files()\n",
    "    work1.start_file_case_path(particular_file)"
   ]
  },
  {
   "cell_type": "code",
   "execution_count": null,
   "metadata": {},
   "outputs": [],
   "source": []
  }
 ],
 "metadata": {
  "interpreter": {
   "hash": "cc18e7e85742f6005d5ff2a65ee9de55216a151021a05b12a9603f5a1b3101fb"
  },
  "kernelspec": {
   "display_name": "Python 3.9.7 ('base')",
   "language": "python",
   "name": "python3"
  },
  "language_info": {
   "codemirror_mode": {
    "name": "ipython",
    "version": 3
   },
   "file_extension": ".py",
   "mimetype": "text/x-python",
   "name": "python",
   "nbconvert_exporter": "python",
   "pygments_lexer": "ipython3",
   "version": "3.9.7"
  }
 },
 "nbformat": 4,
 "nbformat_minor": 4
}
