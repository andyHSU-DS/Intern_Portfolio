{
 "cells": [
  {
   "cell_type": "code",
   "execution_count": 1,
   "metadata": {},
   "outputs": [],
   "source": [
    "import pandas as pd"
   ]
  },
  {
   "cell_type": "code",
   "execution_count": 55,
   "metadata": {},
   "outputs": [
    {
     "name": "stdout",
     "output_type": "stream",
     "text": [
      "9781\n"
     ]
    },
    {
     "name": "stderr",
     "output_type": "stream",
     "text": [
      "100%|██████████| 9781/9781 [00:06<00:00, 1521.46it/s]\n"
     ]
    },
    {
     "name": "stdout",
     "output_type": "stream",
     "text": [
      "0\n"
     ]
    },
    {
     "name": "stderr",
     "output_type": "stream",
     "text": [
      "0it [00:00, ?it/s]\n"
     ]
    },
    {
     "name": "stdout",
     "output_type": "stream",
     "text": [
      "0\n"
     ]
    },
    {
     "name": "stderr",
     "output_type": "stream",
     "text": [
      "0it [00:00, ?it/s]\n"
     ]
    },
    {
     "name": "stdout",
     "output_type": "stream",
     "text": [
      "0\n"
     ]
    },
    {
     "name": "stderr",
     "output_type": "stream",
     "text": [
      "0it [00:00, ?it/s]\n"
     ]
    }
   ],
   "source": [
    "import pandas as pd\n",
    "import os \n",
    "from tqdm import tqdm\n",
    "import numpy as np\n",
    "def Joan_客戶歸戶():\n",
    "    file_path = os.getcwd()+'/input'\n",
    "    files     = os.listdir(file_path)\n",
    "    for file in files:\n",
    "        if \"Onshore\" in file:\n",
    "            Onshore  = pd.read_excel(file_path+\"/\"+file,skiprows=3)\n",
    "        elif \"Offshore\" in file:\n",
    "            Offshore = pd.read_excel(file_path+\"/\"+file,skiprows=3)\n",
    "    #需要的欄位\n",
    "    col_need = ['通路','基金簡稱','客戶','客戶姓名','結存-月底AUM(只有迄月資料)','Sales姓名']\n",
    "\n",
    "    Onshore   = Onshore[col_need]\n",
    "    Onshore   = Onshore[Onshore['通路'] == 4]\n",
    "    Onshore['Current_Rate']   = 1\n",
    "    Offshore  = Offshore[col_need]\n",
    "    Offshore  = Offshore[Offshore['通路'] == 4]\n",
    "    Offshore['Current_Rate']   = 28\n",
    "    \n",
    "    Total_shore  = pd.concat([Onshore,Offshore],axis=0)\n",
    "\n",
    "    Total_shore['結存-月底AUM(只有迄月資料)[NTD]'] = Total_shore['結存-月底AUM(只有迄月資料)']*Total_shore['Current_Rate']\n",
    "\n",
    "    #做一個判斷是不是NMMF的function                                                                                                                                                                                                                  \n",
    "    def NMMF(x):\n",
    "        if \"貨幣市場\" in x:\n",
    "            result = \"MMF\"\n",
    "        else:\n",
    "            result = \"NMMF\"\n",
    "        return result\n",
    "\n",
    "    def NMMF_grade(x):\n",
    "        if ~np.isnan(x):\n",
    "            if x<3000000:\n",
    "                return '小於$3,000,000'\n",
    "            elif 5000000>x>=300000:\n",
    "                return '大於$3,000,000\\n小於$5,000,000'\n",
    "            elif 10000000>x>=500000:\n",
    "                return '大於$5,000,000\\n小於$10,000,000'\n",
    "            elif 30000000>x>=1000000:\n",
    "                return '大於$10,000,000\\n小於$30,000,000'\n",
    "            elif 100000000>x>=3000000:\n",
    "                return '大於$30,000,000\\n小於$100,000,000'\n",
    "            else:\n",
    "                return '大於$100,000,000'\n",
    "        else:\n",
    "            return '無NMMF'\n",
    "\n",
    "    Total_shore['MMF/NMMF'] = Total_shore['基金簡稱'].apply(lambda x:NMMF(x))\n",
    "    Total_shore['客戶'] = Total_shore['客戶'].astype('str')\n",
    "    \n",
    "    #客戶有包含_2\n",
    "    Total_shore_2      = Total_shore[Total_shore['客戶'].str.contains('_2')]\n",
    "\n",
    "    #客戶沒有包含_2\n",
    "    Total_shore_normal = Total_shore[~Total_shore['客戶'].str.contains('_2')].reset_index(drop=True)\n",
    "    Total_shore_normal['客戶'] = Total_shore_normal['客戶'].str.replace('_3','').reset_index(drop=True)\n",
    "\n",
    "    for index,df in enumerate([Total_shore_normal, Total_shore_2]):\n",
    "        df_gp = df.groupby(['客戶','客戶姓名','基金簡稱','Sales姓名','MMF/NMMF']).agg({'結存-月底AUM(只有迄月資料)[NTD]':'sum'})\n",
    "        df_gp = df_gp.unstack()\n",
    "        df_gp.reset_index(inplace=True)\n",
    "        df_gp['NMMF等級'] = df_gp['結存-月底AUM(只有迄月資料)[NTD]']['NMMF'].apply(lambda x:NMMF_grade(x))\n",
    "        客戶等級依照業務分類 = pd.concat([df_gp['Sales姓名'],df_gp['NMMF等級']],axis=1).groupby(['Sales姓名','NMMF等級']).agg({'NMMF等級':'count'})\n",
    "\n",
    "        ###以下完全是為了產出csv好看的做法，要對產出內容作改變請寫在上面\n",
    "        #戶號姓名都相同\n",
    "        need_space_list = []\n",
    "        for i in range(1,len(df_gp)):\n",
    "            if df_gp.iloc[i,0] == df_gp.iloc[i-1,0] and df_gp.iloc[i,1] == df_gp.iloc[i-1,1]:\n",
    "                need_space_list.append(i)\n",
    "        #戶號相同，姓名不同\n",
    "        need_account_number_space_list = []\n",
    "        for i in range(1,len(df_gp)):\n",
    "            if df_gp.iloc[i,0] == df_gp.iloc[i-1,0] and df_gp.iloc[i,1] != df_gp.iloc[i-1,1]:\n",
    "                need_space_list.append(i)\n",
    "        \n",
    "        print(len(need_space_list))\n",
    "        for i in tqdm(need_space_list):\n",
    "            df_gp.iloc[i,[0,1]]=['','']\n",
    "\n",
    "        print(len(need_account_number_space_list))\n",
    "        for i in tqdm(need_account_number_space_list):\n",
    "            df_gp.iloc[i,0]=['']\n",
    "            \n",
    "        NMMF_grade_stat = pd.DataFrame(df_gp['NMMF等級'].value_counts())\n",
    "\n",
    "        if index == 1:\n",
    "            df_gp.to_csv(r'output/戶號含_2的客戶資料.csv',encoding='utf-8-sig',index=True,header=True)\n",
    "            NMMF_grade_stat.to_csv(r'output/戶號含_2的客戶NMMF等級分類.csv',encoding='utf-8-sig',index=True,header=True)\n",
    "            客戶等級依照業務分類.to_csv(r'output/戶號含_2的客戶NMMF等級依業務分類.csv',encoding='utf-8-sig',index=True,header=True)\n",
    "            \n",
    "        else:\n",
    "            df_gp.to_csv(r'output/正常客戶的歸戶資料.csv',encoding='utf-8-sig',index=True,header=True)\n",
    "            NMMF_grade_stat.to_csv(r'output/正常客戶NMMF等級分類.csv',encoding='utf-8-sig',index=True,header=True)\n",
    "            客戶等級依照業務分類.to_csv(r'output/正常客戶NMMF等級依業務分類.csv',encoding='utf-8-sig',index=True,header=True)\n",
    "            \n",
    "\n",
    "    \n",
    "\n",
    "\n",
    "\n",
    "if __name__ == '__main__':\n",
    "    Joan_客戶歸戶()"
   ]
  },
  {
   "cell_type": "code",
   "execution_count": null,
   "metadata": {},
   "outputs": [],
   "source": []
  }
 ],
 "metadata": {
  "interpreter": {
   "hash": "720b0922c122480fa3a07d94500163633214d5cb455a832b623439a889078b31"
  },
  "kernelspec": {
   "display_name": "Python 3.9.7 ('base')",
   "language": "python",
   "name": "python3"
  },
  "language_info": {
   "codemirror_mode": {
    "name": "ipython",
    "version": 3
   },
   "file_extension": ".py",
   "mimetype": "text/x-python",
   "name": "python",
   "nbconvert_exporter": "python",
   "pygments_lexer": "ipython3",
   "version": "3.9.7"
  },
  "orig_nbformat": 4
 },
 "nbformat": 4,
 "nbformat_minor": 2
}
