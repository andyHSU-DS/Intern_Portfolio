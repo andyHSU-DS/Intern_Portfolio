{
 "cells": [
  {
   "cell_type": "code",
   "execution_count": null,
   "metadata": {},
   "outputs": [],
   "source": [
    "#截圖教學：https://www.learncodewithmike.com/2021/09/python-selenium-screenshot.html"
   ]
  },
  {
   "cell_type": "code",
   "execution_count": 2,
   "metadata": {},
   "outputs": [],
   "source": [
    "import warnings\n",
    "import numpy as np\n",
    "import pandas as pd\n",
    "\n",
    "import bs4\n",
    "\n",
    "import time\n",
    "\n",
    "from selenium import webdriver\n",
    "from selenium.webdriver.support.ui import Select\n",
    "from selenium.webdriver.common.keys import Keys\n",
    "\n",
    "from selenium.webdriver.common.action_chains import ActionChains\n",
    "from webdriver_manager.chrome import ChromeDriverManager"
   ]
  },
  {
   "cell_type": "code",
   "execution_count": null,
   "metadata": {},
   "outputs": [],
   "source": [
    "warnings.filterwarnings('ignore')"
   ]
  },
  {
   "cell_type": "code",
   "execution_count": 8,
   "metadata": {},
   "outputs": [
    {
     "name": "stderr",
     "output_type": "stream",
     "text": [
      "\n",
      "\n",
      "====== WebDriver manager ======\n",
      "Current google-chrome version is 100.0.4896\n",
      "Get LATEST chromedriver version for 100.0.4896 google-chrome\n",
      "Driver [/Users/andyhsu/.wdm/drivers/chromedriver/mac64/100.0.4896.60/chromedriver] found in cache\n",
      "/opt/anaconda3/envs/Nomura/lib/python3.7/site-packages/ipykernel_launcher.py:4: DeprecationWarning: executable_path has been deprecated, please pass in a Service object\n",
      "  after removing the cwd from sys.path.\n",
      "/opt/anaconda3/envs/Nomura/lib/python3.7/site-packages/ipykernel_launcher.py:10: DeprecationWarning: find_element_by_* commands are deprecated. Please use find_element() instead\n",
      "  # Remove the CWD from sys.path while we load stuff.\n"
     ]
    },
    {
     "name": "stdout",
     "output_type": "stream",
     "text": [
      "基金\n"
     ]
    },
    {
     "name": "stderr",
     "output_type": "stream",
     "text": [
      "/opt/anaconda3/envs/Nomura/lib/python3.7/site-packages/ipykernel_launcher.py:13: DeprecationWarning: find_element_by_* commands are deprecated. Please use find_element() instead\n",
      "  del sys.path[0]\n",
      "/opt/anaconda3/envs/Nomura/lib/python3.7/site-packages/ipykernel_launcher.py:15: DeprecationWarning: find_element_by_* commands are deprecated. Please use find_element() instead\n",
      "  from ipykernel import kernelapp as app\n",
      "/opt/anaconda3/envs/Nomura/lib/python3.7/site-packages/ipykernel_launcher.py:18: DeprecationWarning: find_element_by_* commands are deprecated. Please use find_element() instead\n",
      "/opt/anaconda3/envs/Nomura/lib/python3.7/site-packages/ipykernel_launcher.py:21: DeprecationWarning: find_element_by_* commands are deprecated. Please use find_element() instead\n",
      "/opt/anaconda3/envs/Nomura/lib/python3.7/site-packages/ipykernel_launcher.py:24: DeprecationWarning: find_elements_by_* commands are deprecated. Please use find_elements() instead\n"
     ]
    },
    {
     "name": "stdout",
     "output_type": "stream",
     "text": [
      "基本資料\n",
      "公司\n",
      "淨值\n",
      "績效\n"
     ]
    },
    {
     "name": "stderr",
     "output_type": "stream",
     "text": [
      "/opt/anaconda3/envs/Nomura/lib/python3.7/site-packages/ipykernel_launcher.py:31: DeprecationWarning: find_element_by_* commands are deprecated. Please use find_element() instead\n",
      "/opt/anaconda3/envs/Nomura/lib/python3.7/site-packages/ipykernel_launcher.py:37: DeprecationWarning: find_element_by_* commands are deprecated. Please use find_element() instead\n",
      "/opt/anaconda3/envs/Nomura/lib/python3.7/site-packages/ipykernel_launcher.py:39: DeprecationWarning: find_element_by_* commands are deprecated. Please use find_element() instead\n",
      "/opt/anaconda3/envs/Nomura/lib/python3.7/site-packages/ipykernel_launcher.py:41: DeprecationWarning: find_element_by_* commands are deprecated. Please use find_element() instead\n",
      "/opt/anaconda3/envs/Nomura/lib/python3.7/site-packages/ipykernel_launcher.py:43: DeprecationWarning: find_element_by_* commands are deprecated. Please use find_element() instead\n",
      "/opt/anaconda3/envs/Nomura/lib/python3.7/site-packages/ipykernel_launcher.py:52: DeprecationWarning: find_element_by_* commands are deprecated. Please use find_element() instead\n",
      "/opt/anaconda3/envs/Nomura/lib/python3.7/site-packages/ipykernel_launcher.py:57: DeprecationWarning: find_element_by_* commands are deprecated. Please use find_element() instead\n",
      "/opt/anaconda3/envs/Nomura/lib/python3.7/site-packages/ipykernel_launcher.py:61: DeprecationWarning: find_element_by_* commands are deprecated. Please use find_element() instead\n",
      "/opt/anaconda3/envs/Nomura/lib/python3.7/site-packages/ipykernel_launcher.py:67: DeprecationWarning: find_element_by_* commands are deprecated. Please use find_element() instead\n"
     ]
    }
   ],
   "source": [
    "path   = r'/Users/andyhsu/Desktop/野村/MoneyDJ/chromedriver'\n",
    "#options = webdriver.ChromeOptions()\n",
    "#options.add_argument(\"--kiosk\")\n",
    "driver = webdriver.Chrome(ChromeDriverManager().install())\n",
    "driver.get('https://www.moneydj.com/')\n",
    "#fixed_fund不要去動\n",
    "def 搜尋標的(company = '摩根投信', fund = '摩根太平洋科技基金', fixed_fund = '瑞聯UBAM美國優質中期公司債券基金美元AC',\\\n",
    "    比較市場 = ['海外基金','海外基金'],比較公司 = ['瑞銀投信','瑞銀投信'],比較標的 = ['瑞士銀行(瑞士)歐洲機會基金(未申報生效)','瑞士銀行(盧森堡)歐元國家機會基金(未申報生效)'],\\\n",
    "    比較期間 = '三個月績效', 期間是否自訂 = False, 起始時間 = None, 結束時間 = None):\n",
    "    基金按鈕 = driver.find_element_by_xpath('//li[@name=\"fund\"]')\n",
    "    print(基金按鈕.text)\n",
    "    基金按鈕.click()\n",
    "    輸入搜尋 = driver.find_element_by_xpath('//input[@name=\"txt1search\"]')\n",
    "    輸入搜尋.send_keys(fixed_fund)\n",
    "    搜尋按鈕 = driver.find_element_by_xpath('//input[@value=\"搜尋\" and @name=\"btn1\"]')\n",
    "    搜尋按鈕.click()\n",
    "    time.sleep(3)\n",
    "    company_select = Select(driver.find_element_by_xpath('//select[@name=\"selFund_corp\"]'))\n",
    "    company_select.select_by_visible_text(company)\n",
    "    time.sleep(2)\n",
    "    fund_select    = Select(driver.find_element_by_xpath('//select[@name=\"selFund3\"]'))\n",
    "    fund_select.select_by_visible_text(fund)\n",
    "    time.sleep(2)\n",
    "    各種指標 = driver.find_elements_by_xpath('//div[@class = \"Tab-Much\"]/ul/li')\n",
    "    for 指標 in 各種指標:\n",
    "        print(指標.text)\n",
    "        if 指標.text == '績效':\n",
    "            指標.click()\n",
    "            break\n",
    "\n",
    "    選擇比較標的及區間 = driver.find_element_by_xpath('//div[@id = \"yp012001Mark\"]')\n",
    "    選擇比較標的及區間.click()\n",
    "    \n",
    "    比較組合 = list(zip(比較市場,比較公司,比較標的))\n",
    "\n",
    "    for x in range(len(比較組合)):\n",
    "        市場選擇選單 = Select(driver.find_element_by_xpath('//select[@name=\"oFund_area\"]'))\n",
    "        市場選擇選單.select_by_visible_text(比較組合[x][0])\n",
    "        公司選擇選單 = Select(driver.find_element_by_xpath('//select[@name=\"oFund_corp\"]'))\n",
    "        公司選擇選單.select_by_visible_text(比較組合[x][1])\n",
    "        基金選擇選單 = Select(driver.find_element_by_xpath('//select[@name=\"oFund3\"]'))\n",
    "        基金選擇選單.select_by_visible_text(比較組合[x][2])\n",
    "        增加按鈕    = driver.find_element_by_xpath('//a[@href=\"javascript:addFID();\"]')\n",
    "        增加按鈕.click()\n",
    "    \n",
    "    if 期間是否自訂 != True:\n",
    "        績效區間選擇清單 = Select(driver.find_element_by_xpath('//select[@name=\"selYEAR\"]'))\n",
    "        績效區間選擇清單.select_by_visible_text(比較期間)\n",
    "\n",
    "    else:\n",
    "        全部時間       = []\n",
    "        自由選擇區間按鈕 = driver.find_element_by_xpath('//input[@name = \"radioMonth\" and @onclick = \"radioSelYear_onclick(false)\"]')\n",
    "        自由選擇區間按鈕.click()\n",
    "        全部時間.extend(起始時間)\n",
    "        全部時間.extend(結束時間)\n",
    "        #兄節點\n",
    "        按鈕 = Select(driver.find_element_by_xpath('//select[@name=\"Y2\"]'))\n",
    "        按鈕.select_by_visible_text(全部時間[0])\n",
    "        for index,時間 in enumerate(全部時間[1:],start=1):\n",
    "            #離當前節點最近的第x節點\n",
    "            按鈕 = Select(driver.find_element_by_xpath('//select[@name=\"Y2\"]/following-sibling::select['+str(index)+']'))\n",
    "            按鈕.select_by_visible_text(時間)\n",
    "            \n",
    "        \n",
    "\n",
    "\n",
    "    開始比較按鈕 = driver.find_element_by_xpath('//img[@src=\"/funddj/images/Extend/BT_Start.gif\"]')\n",
    "    開始比較按鈕.click()\n",
    "    driver.maximize_window()\n",
    "\n",
    "\n",
    "    \"\"\"\n",
    "    charts = driver.find_element_by_xpath('')\n",
    "    action = ActionChains(driver)\n",
    "    action.move_to_element(charts).perform()\n",
    "    \"\"\"\n",
    "    driver.execute_script(\"window.scrollTo(0,500)\")\n",
    "    time.sleep(3)\n",
    "    driver.get_screenshot_as_file(f\"{company+'-'+fund}.png\")\n",
    "\n",
    "\n",
    "\n",
    "搜尋標的(期間是否自訂 = True, 起始時間 = ['2022','1','1'], 結束時間 = ['2022','1','11'])"
   ]
  },
  {
   "cell_type": "code",
   "execution_count": null,
   "metadata": {},
   "outputs": [],
   "source": []
  }
 ],
 "metadata": {
  "interpreter": {
   "hash": "40d3a090f54c6569ab1632332b64b2c03c39dcf918b08424e98f38b5ae0af88f"
  },
  "kernelspec": {
   "display_name": "Python 3.8.5 ('base')",
   "language": "python",
   "name": "python3"
  },
  "language_info": {
   "codemirror_mode": {
    "name": "ipython",
    "version": 3
   },
   "file_extension": ".py",
   "mimetype": "text/x-python",
   "name": "python",
   "nbconvert_exporter": "python",
   "pygments_lexer": "ipython3",
   "version": "3.7.11"
  },
  "orig_nbformat": 4
 },
 "nbformat": 4,
 "nbformat_minor": 2
}
