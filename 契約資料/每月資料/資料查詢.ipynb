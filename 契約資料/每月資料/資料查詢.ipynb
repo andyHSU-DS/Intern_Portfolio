{
 "cells": [
  {
   "cell_type": "code",
   "execution_count": 102,
   "metadata": {},
   "outputs": [],
   "source": [
    "import pandas as pd\n",
    "import re\n",
    "import time\n",
    "from datetime import datetime\n",
    "import os"
   ]
  },
  {
   "cell_type": "code",
   "execution_count": 148,
   "metadata": {},
   "outputs": [],
   "source": [
    "##參數說明:\n",
    "'''前兩個是起迄日期，填到[DAY]，格式為XXXX(year)-XX(month)-XX(day)\n",
    "   trade_type為交易類別，please填入list\n",
    "   condition為你要看大於等於or小於，可選擇的有\n",
    "      1.大於等於\n",
    "      2.大於\n",
    "      3.等於\n",
    "      4.小於\n",
    "      5.小於等於\n",
    "   threshold為要看的門檻(填台幣)\n",
    "   Agent 同樣填入list\n",
    "   output_filename是期望的檔名，預設為最近一次查詢\n",
    "   是否為台股基金預設是None，有需要就Y 不需要(想看非台股)則N'''\n",
    "\n",
    "current_path = os.getcwd()\n",
    "def query_proccess(start_date, end_date, trade_type=['ARSP', 'CRSP', 'LRSP', 'ROBO RSP', 'ROBO(單筆)', 'RSP', 'RSP30',\n",
    "      '單筆申購', '單筆申購(EC)'], condition=None, threshold=None, Agent=None, 是否為台股基金 = None, output_filename = '最近一次查詢',\n",
    "      基金簡稱_list = None):\n",
    "   ###先找到橫跨月份\n",
    "   all_month_need   = []\n",
    "   start_date_month = re.search(r'(\\d+-)(\\d+)(-\\d+)',start_date).group(1) + re.search(r'(\\d+-)(\\d+)(-\\d+)',start_date).group(2)\n",
    "   經過的月份        = [x.strftime(\"%Y-%m\") for x in pd.date_range(start_date, end_date, freq='MS')]\n",
    "   #end_date_month   = re.search(r'(\\d+-)(\\d+)(-\\d+)',end_date).group(1) + re.search(r'(\\d+-)(\\d+)(-\\d+)',end_date).group(2)\n",
    "   all_month_need.append(start_date_month)\n",
    "   all_month_need.extend(經過的月份)\n",
    "   #all_month_need.append(end_date_month)\n",
    "   ###將月份變檔案\n",
    "   all_file_need    = [mon+'.csv' for mon in all_month_need]\n",
    "\n",
    "   print(all_file_need)\n",
    "   \n",
    "   #用df來裝這些東西，迭代要看的檔案，如果是最前面最後面的檔案，那要記得界線\n",
    "   dataframe        = pd.DataFrame({})\n",
    "   for index, file in enumerate(all_file_need):\n",
    "      current_file  = current_path+'\\\\'+file\n",
    "\n",
    "      if index == 0:\n",
    "         #print(current_file)\n",
    "         temp_df = pd.read_csv(current_file)\n",
    "         temp_df['日期'] = pd.to_datetime(temp_df['日期'])\n",
    "         new_temp_df = temp_df[temp_df['日期']>= datetime.strptime(start_date, \"%Y-%m-%d\")]\n",
    "\n",
    "\n",
    "      elif index == len(all_file_need) - 1:\n",
    "         #print(current_file)\n",
    "         temp_df = pd.read_csv(current_file)\n",
    "         temp_df['日期'] = pd.to_datetime(temp_df['日期'])\n",
    "         new_temp_df = temp_df[temp_df['日期']<= datetime.strptime(end_date, \"%Y-%m-%d\")]\n",
    "\n",
    "      else:\n",
    "         #print(current_file)\n",
    "         new_temp_df = pd.read_csv(current_file)\n",
    "         new_temp_df['日期'] = pd.to_datetime(new_temp_df['日期'])\n",
    "      \n",
    "      dataframe = dataframe.append(new_temp_df)\n",
    "\n",
    "   #定義查詢條件式\n",
    "   if condition != None and threshold != None:\n",
    "      if condition == '大於':\n",
    "         dataframe = dataframe[(dataframe['交易類別'] in trade_type) & (dataframe['金額(台幣)'] >  threshold)]\n",
    "      elif condition == '小於':\n",
    "         dataframe = dataframe[(dataframe['交易類別'] in trade_type) & (dataframe['金額(台幣)'] <  threshold)]\n",
    "      elif condition == '等於':\n",
    "         dataframe = dataframe[(dataframe['交易類別'] in trade_type) & (dataframe['金額(台幣)'] == threshold)]\n",
    "      elif condition == '大於等於':\n",
    "         dataframe = dataframe[(dataframe['交易類別'] in trade_type) & (dataframe['金額(台幣)'] >= threshold)]\n",
    "      elif condition == '小於等於':\n",
    "         dataframe = dataframe[(dataframe['交易類別'] in trade_type) & (dataframe['金額(台幣)'] <= threshold)]\n",
    "   else:\n",
    "      pass\n",
    "   \n",
    "\n",
    "\n",
    "   if Agent != None:\n",
    "      dataframe = dataframe[dataframe['Agent'] in Agent]\n",
    "   else:\n",
    "      pass\n",
    "\n",
    "   if 是否為台股基金 == 'Y':\n",
    "      dataframe = dataframe[dataframe['是否為台股基金']=='Y']\n",
    "   elif 是否為台股基金 == 'N':\n",
    "      dataframe = dataframe[dataframe['是否為台股基金']=='N']\n",
    "   else:\n",
    "      pass\n",
    "\n",
    "   if 基金簡稱_list == None:\n",
    "      pass\n",
    "   else:\n",
    "      dataframe = dataframe[dataframe['基金簡稱'].isin(基金簡稱_list)]\n",
    "\n",
    "\n",
    "   \n",
    "\n",
    "   output_file  = current_path+'\\\\'+output_filename+'.csv'\n",
    "   dataframe.to_csv(output_file,encoding='utf-8-sig',index=False,header=True)\n",
    "   return 'Task Done!'"
   ]
  },
  {
   "cell_type": "code",
   "execution_count": 150,
   "metadata": {},
   "outputs": [
    {
     "name": "stdout",
     "output_type": "stream",
     "text": [
      "['2021-12.csv', '2022-01.csv', '2022-02.csv']\n"
     ]
    },
    {
     "data": {
      "text/plain": [
       "'Task Done!'"
      ]
     },
     "execution_count": 150,
     "metadata": {},
     "output_type": "execute_result"
    }
   ],
   "source": [
    "query_proccess('2021-12-24','2022-02-06')"
   ]
  },
  {
   "cell_type": "code",
   "execution_count": null,
   "metadata": {},
   "outputs": [],
   "source": []
  }
 ],
 "metadata": {
  "interpreter": {
   "hash": "720b0922c122480fa3a07d94500163633214d5cb455a832b623439a889078b31"
  },
  "kernelspec": {
   "display_name": "Python 3.9.7 ('base')",
   "language": "python",
   "name": "python3"
  },
  "language_info": {
   "codemirror_mode": {
    "name": "ipython",
    "version": 3
   },
   "file_extension": ".py",
   "mimetype": "text/x-python",
   "name": "python",
   "nbconvert_exporter": "python",
   "pygments_lexer": "ipython3",
   "version": "3.9.7"
  },
  "orig_nbformat": 4
 },
 "nbformat": 4,
 "nbformat_minor": 2
}
