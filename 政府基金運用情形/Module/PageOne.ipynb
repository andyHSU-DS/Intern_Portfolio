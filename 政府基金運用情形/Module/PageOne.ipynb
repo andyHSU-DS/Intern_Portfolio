{
 "cells": [
  {
   "cell_type": "code",
   "execution_count": 2,
   "metadata": {},
   "outputs": [],
   "source": [
    "import PyPDF2\n",
    "import pdfplumber\n",
    "import pandas as pd\n",
    "from openpyxl import load_workbook\n",
    "import re\n",
    "import os"
   ]
  },
  {
   "cell_type": "code",
   "execution_count": 6,
   "metadata": {},
   "outputs": [],
   "source": [
    "PDF_files  = []\n",
    "input_path = r'/Users/andyhsu/Documents/GitHub/Intern_Portfolio/Intern_Portfolio/政府基金運用情形/input'\n",
    "for x in os.listdir(input_path):\n",
    "    if '.pdf' in x:\n",
    "        PDF_files.append(x)\n",
    "\n",
    "GFI  = pd.read_excel(r'/Users/andyhsu/Documents/GitHub/Intern_Portfolio/Intern_Portfolio/政府基金運用情形/input/202111 政府基金運用資訊 v2.0.xlsx',sheet_name = 'Government Fund Info (Raw Data)',skiprows = 2)\n",
    "# \n",
    "#把index處理一下\n",
    "new_index = []\n",
    "old_index = GFI.set_index('Unnamed: 0').index\n",
    "for i in GFI.set_index('Unnamed: 0').index:\n",
    "    #只抓前面的中文部分\n",
    "    if re.match('[\\u4e00-\\u9fa5]+',i):\n",
    "        new_index.append(re.match('[\\u4e00-\\u9fa5]+',i)[0])"
   ]
  },
  {
   "cell_type": "code",
   "execution_count": null,
   "metadata": {},
   "outputs": [],
   "source": []
  }
 ],
 "metadata": {
  "language_info": {
   "name": "python"
  },
  "orig_nbformat": 4
 },
 "nbformat": 4,
 "nbformat_minor": 2
}
