{
 "cells": [
  {
   "cell_type": "code",
   "execution_count": 7,
   "metadata": {},
   "outputs": [],
   "source": [
    "import PyPDF2\n",
    "import pdfplumber as pr\n",
    "import pandas as pd\n",
    "from openpyxl import load_workbook\n",
    "import re\n",
    "import os"
   ]
  },
  {
   "cell_type": "code",
   "execution_count": 6,
   "metadata": {},
   "outputs": [],
   "source": [
    "PDF_files  = []\n",
    "input_path = r'/Users/andyhsu/Documents/GitHub/Intern_Portfolio/Intern_Portfolio/政府基金運用情形/input'\n",
    "for x in os.listdir(input_path):\n",
    "    if '.pdf' in x:\n",
    "        PDF_files.append(x)\n",
    "\n",
    "GFI  = pd.read_excel(r'/Users/andyhsu/Documents/GitHub/Intern_Portfolio/Intern_Portfolio/政府基金運用情形/input/202111 政府基金運用資訊 v2.0.xlsx',sheet_name = 'Government Fund Info (Raw Data)',skiprows = 2)\n",
    "# \n",
    "#把index處理一下\n",
    "new_index = []\n",
    "old_index = GFI.set_index('Unnamed: 0').index\n",
    "for i in GFI.set_index('Unnamed: 0').index:\n",
    "    #只抓前面的中文部分\n",
    "    if re.match('[\\u4e00-\\u9fa5]+',i):\n",
    "        new_index.append(re.match('[\\u4e00-\\u9fa5]+',i)[0])"
   ]
  },
  {
   "cell_type": "code",
   "execution_count": null,
   "metadata": {},
   "outputs": [],
   "source": [
    "def convert_勞退_dict(x):\n",
    "    勞退_dict = {\n",
    "        '公債、公司債、金融債券及特別股':'公債',\n",
    "        '股票及受益憑證投資（含期貨）':'股票及受益憑證投資',\n",
    "        '國內委託經營':'國內委託',\n",
    "        '國外委託經營':'國外委託',\n",
    "        '合            計':'金額總計'\n",
    "    }\n",
    "    if x in 勞退_dict:\n",
    "        result = 勞退_dict[x]\n",
    "    else:\n",
    "        result = x\n",
    "    return result\n",
    "def convert_勞保_dict(x):\n",
    "    勞保_dict = {\n",
    "        '公債、公司債、金融債券及特別股':'公債',\n",
    "        '股票及受益憑證投資（含期貨）':'股票及受益憑證投資',\n",
    "        '國內委託經營':'國內委託',\n",
    "        '國外委託經營':'國外委託',\n",
    "        '合    計':'金額總計'\n",
    "    }\n",
    "    if x in 勞保_dict:\n",
    "        result = 勞保_dict[x]\n",
    "    else:\n",
    "        result = x\n",
    "    return result\n",
    "def convert_國保_dict(x):\n",
    "    國保_dict = {\n",
    "        '公債、公司債、金融債券及特別股':'公債',\n",
    "        '股票及受益憑證投資（含期貨）':'股票及受益憑證投資',\n",
    "        '合           計':'金額總計'\n",
    "    }\n",
    "    if x in 國保_dict:\n",
    "        result = 國保_dict[x]\n",
    "    else:\n",
    "        result = x\n",
    "    return result\n",
    "def convert_退撫_dict(x):\n",
    "    退撫_dict = {\n",
    "        '自行運用小計':'自行運用',\n",
    "        '國內委託經營':'國內委託',\n",
    "        '國外委託經營':'國外委託',\n",
    "        '委託經營小計':'委託經營',\n",
    "        '合                 計':'金額總計'\n",
    "    }\n",
    "    if x in 退撫_dict:\n",
    "        result = 退撫_dict[x]\n",
    "    else:\n",
    "        result = x\n",
    "    return result"
   ]
  },
  {
   "cell_type": "code",
   "execution_count": 10,
   "metadata": {},
   "outputs": [],
   "source": [
    "for pdf_file in PDF_files:\n",
    "    if '國民年金' in pdf_file:\n",
    "        國保_pdf = pr.open(input_path+'/'+pdf_file)\n",
    "    elif '勞工退休' in pdf_file:\n",
    "        勞退_pdf = pr.open(input_path+'/'+pdf_file)\n",
    "    elif '基金運用' in pdf_file:\n",
    "        退撫_pdf = pr.open(input_path+'/'+pdf_file)\n",
    "    elif '勞工保險' in pdf_file:\n",
    "        勞保_pdf = pr.open(input_path+'/'+pdf_file)"
   ]
  },
  {
   "cell_type": "code",
   "execution_count": 21,
   "metadata": {},
   "outputs": [
    {
     "data": {
      "text/plain": [
       "[[['項          目', '餘       額', '占基金運用比率\\n（％）'],\n",
       "  ['自行運用', '1,306,099,568,604', '40.94'],\n",
       "  ['轉存金融機構', '619,950,926,538', '19.43'],\n",
       "  ['短期票券', '53,056,994,167', '1.66'],\n",
       "  ['公債、公司債、金融債券及特別股', '202,917,481,927', '6.36'],\n",
       "  ['股票及受益憑證投資（含期貨）', '177,709,826,394', '5.57'],\n",
       "  ['國外投資', '252,464,339,578', '7.92'],\n",
       "  ['固定收益', '152,043,571,812', '4.77'],\n",
       "  ['權益證券', '53,017,947,751', '1.66'],\n",
       "  ['另類投資', '47,402,820,015', '1.49'],\n",
       "  ['委託經營', '1,884,537,399,059', '59.06'],\n",
       "  ['國內委託經營', '468,246,576,073', '14.68'],\n",
       "  ['國外委託經營', '1,416,290,822,986', '44.38'],\n",
       "  ['固定收益', '357,161,499,961', '11.19'],\n",
       "  ['權益證券', '704,226,264,484', '22.07'],\n",
       "  ['另類投資', '354,903,058,541', '11.12'],\n",
       "  ['合            計', '3,190,636,967,663', '100.00']]]"
      ]
     },
     "execution_count": 21,
     "metadata": {},
     "output_type": "execute_result"
    }
   ],
   "source": [
    "勞退_pdf.pages[2].extract_tables()"
   ]
  },
  {
   "cell_type": "code",
   "execution_count": null,
   "metadata": {},
   "outputs": [],
   "source": [
    "#讀取指定文件內的所有圖表\n",
    "def get_all_table(file):\n",
    "    tables_dict = {}\n",
    "    ps          = file.pages\n",
    "    print(len(ps))\n",
    "    i           = 0\n",
    "    for p in range(len(ps)):\n",
    "        #進去每一頁\n",
    "        pg      = ps[p]\n",
    "        #找到那頁的有表格\n",
    "        tables  = pg.extract_tables()\n",
    "        #一頁只有一個表格的情況\n",
    "        if len(tables) == 1:\n",
    "            table = tables\n",
    "            tables_dict['表格' + str(i)] = table\n",
    "            i += 1\n",
    "        #一頁有超過一個表格的情況\n",
    "        elif len(tables) > 1:\n",
    "            for g in range(len(tables)):\n",
    "                table = tables[g]\n",
    "                tables_dict['表格' + str(i)] = table\n",
    "                i += 1\n",
    "    return tables_dict"
   ]
  },
  {
   "cell_type": "code",
   "execution_count": 11,
   "metadata": {},
   "outputs": [],
   "source": [
    "#按照我們設定的行數來尋找目標table，這要人工去看每個目標的行數\n",
    "def get_target_table(tables_dict,target_len):\n",
    "    i = 0\n",
    "    #用來放目標table的\n",
    "    target_table_df = pd.DataFrame({})\n",
    "    #用表格的長度來決定要抓什麼表格\n",
    "    for table in list(tables_dict.values()):\n",
    "        if len(table) == target_len:\n",
    "            print(i)\n",
    "            Table = pd.DataFrame(table[0][1:],columns = table[0][0])\n",
    "            target_table_df = pd.concat([target_table_df,Table],axis=1)\n",
    "        \n",
    "        #這邊是發現有些表格會是三維的，所以做特殊處理\n",
    "        elif len(table[0]) == target_len:\n",
    "            print(i)\n",
    "            Table = pd.DataFrame(table[0][1:],columns = table[0][0])\n",
    "            #因為項目我已經有了，所以要拿掉\n",
    "            target_table_df = pd.concat([target_table_df,Table],axis=1)\n",
    "        i += 1\n",
    "    return target_table_df"
   ]
  },
  {
   "cell_type": "code",
   "execution_count": null,
   "metadata": {},
   "outputs": [],
   "source": [
    "def handle_勞退_process(DataFrame):\n",
    "    DataFrame.columns = ['項          目','勞退新制\\nLPF','占基金運用比率（％）新','項          目','勞退舊制\\nLRF','占基金運用比率（％）舊']\n",
    "    #去掉蘭重複的\n",
    "    新舊制勞對_df       = DataFrame.loc[:,]"
   ]
  },
  {
   "cell_type": "code",
   "execution_count": null,
   "metadata": {},
   "outputs": [],
   "source": []
  }
 ],
 "metadata": {
  "language_info": {
   "name": "python"
  },
  "orig_nbformat": 4
 },
 "nbformat": 4,
 "nbformat_minor": 2
}
